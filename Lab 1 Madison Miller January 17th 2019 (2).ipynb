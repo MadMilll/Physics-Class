{
 "cells": [
  {
   "cell_type": "markdown",
   "metadata": {},
   "source": [
    "$\\alpha = \\Delta*L$"
   ]
  },
  {
   "cell_type": "code",
   "execution_count": 17,
   "metadata": {},
   "outputs": [
    {
     "name": "stdout",
     "output_type": "stream",
     "text": [
      "0.31622776601683794\n"
     ]
    }
   ],
   "source": [
    "import numpy as np \n",
    "def rule_3 (errA,errB):\n",
    "    errQ = np.sqrt(errA**2 + errB**2)\n",
    "    return errQ\n",
    "\n",
    "errT_i = 0.3 #c\n",
    "errT_f = 0.1 #c\n",
    "\n",
    "err_Delta_T = rule_3(errT_i, errT_f)\n",
    "print (err_Delta_T)"
   ]
  },
  {
   "cell_type": "code",
   "execution_count": 32,
   "metadata": {},
   "outputs": [
    {
     "name": "stdout",
     "output_type": "stream",
     "text": [
      "1.1408404354820613e-07\n"
     ]
    }
   ],
   "source": [
    "import numpy as np\n",
    "def rule_4 (Q,errA,errB,errC,m,n,o,A,B,C):\n",
    "    errQ = Q*np.sqrt(((m*(errA/A))**2) + ((n*(errB/B))**2) + ((o*(errC/C)**2)))\n",
    "    return errQ\n",
    "\n",
    "alpha = .0000172 #m\n",
    "Delta_L = .00125 #m\n",
    "delta_Delta_L = .00001 #m\n",
    "L = 1.05 #m\n",
    "delta_L = .001 #m\n",
    "Delta_T = 69.1 #m\n",
    "delta_Delta_T = .316 #m\n",
    "m = 1 \n",
    "n = -1\n",
    "o = -1 \n",
    "\n",
    "error_alpha = rule_4(alpha, delta_Delta_L, delta_L, delta_Delta_T, m, n, o, Delta_L, L, Delta_T)\n",
    "\n",
    "print (error_alpha)\n"
   ]
  },
  {
   "cell_type": "code",
   "execution_count": null,
   "metadata": {},
   "outputs": [],
   "source": []
  }
 ],
 "metadata": {
  "kernelspec": {
   "display_name": "Python 3",
   "language": "python",
   "name": "python3"
  },
  "language_info": {
   "codemirror_mode": {
    "name": "ipython",
    "version": 3
   },
   "file_extension": ".py",
   "mimetype": "text/x-python",
   "name": "python",
   "nbconvert_exporter": "python",
   "pygments_lexer": "ipython3",
   "version": "3.6.5"
  }
 },
 "nbformat": 4,
 "nbformat_minor": 2
}

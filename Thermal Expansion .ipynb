{
 "cells": [
  {
   "cell_type": "code",
   "execution_count": 7,
   "metadata": {},
   "outputs": [
    {
     "name": "stdout",
     "output_type": "stream",
     "text": [
      "3.252335508879881e-07\n"
     ]
    }
   ],
   "source": [
    "import numpy as np\n",
    "def rule_4 (Q,errA,errB,errC,m,n,o,A,B,C):\n",
    "    errQ = Q*np.sqrt(((m*(errA/A))**2) + ((n*(errB/B))**2) + ((o*(errC/C)**2)))\n",
    "    return errQ\n",
    "\n",
    "alpha = .00002582925883 #m\n",
    "Delta_L = .00111 #m\n",
    "delta_Delta_L = .00001414213562 #m\n",
    "L = .699 #m\n",
    "delta_L = .0005#m\n",
    "Delta_T = 61.48 #m\n",
    "delta_Delta_T = .1272792206 #m\n",
    "m = 1 \n",
    "n = -1\n",
    "o = -1 \n",
    "\n",
    "error_alpha = rule_4(alpha, delta_Delta_L, delta_L, delta_Delta_T, m, n, o, Delta_L, L, Delta_T)\n",
    "\n",
    "print (error_alpha)\n"
   ]
  },
  {
   "cell_type": "code",
   "execution_count": 8,
   "metadata": {},
   "outputs": [
    {
     "name": "stdout",
     "output_type": "stream",
     "text": [
      "3.3000953661229586e-07\n"
     ]
    }
   ],
   "source": [
    "import numpy as np\n",
    "def rule_4 (Q,errA,errB,errC,m,n,o,A,B,C):\n",
    "    errQ = Q*np.sqrt(((m*(errA/A))**2) + ((n*(errB/B))**2) + ((o*(errC/C)**2)))\n",
    "    return errQ\n",
    "\n",
    "alpha = .00001973684211 #m\n",
    "Delta_L = .00084 #m\n",
    "delta_Delta_L = .00001414213562 #m\n",
    "L = .7 #m\n",
    "delta_L = .0005#m\n",
    "Delta_T = 60.8 #m\n",
    "delta_Delta_T = .1272792206 #m\n",
    "m = 1 \n",
    "n = -1\n",
    "o = -1 \n",
    "\n",
    "error_alpha = rule_4(alpha, delta_Delta_L, delta_L, delta_Delta_T, m, n, o, Delta_L, L, Delta_T)\n",
    "\n",
    "print (error_alpha)"
   ]
  },
  {
   "cell_type": "code",
   "execution_count": null,
   "metadata": {},
   "outputs": [],
   "source": []
  }
 ],
 "metadata": {
  "kernelspec": {
   "display_name": "Python 3",
   "language": "python",
   "name": "python3"
  },
  "language_info": {
   "codemirror_mode": {
    "name": "ipython",
    "version": 3
   },
   "file_extension": ".py",
   "mimetype": "text/x-python",
   "name": "python",
   "nbconvert_exporter": "python",
   "pygments_lexer": "ipython3",
   "version": "3.6.5"
  }
 },
 "nbformat": 4,
 "nbformat_minor": 2
}
